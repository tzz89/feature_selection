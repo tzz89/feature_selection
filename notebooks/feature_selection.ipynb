{
 "cells": [
  {
   "cell_type": "code",
   "execution_count": 1,
   "id": "cdff1e5a",
   "metadata": {},
   "outputs": [],
   "source": [
    "import os\n",
    "os.chdir(\"..\")"
   ]
  },
  {
   "cell_type": "code",
   "execution_count": 3,
   "id": "a33cf489",
   "metadata": {},
   "outputs": [],
   "source": [
    "%load_ext autoreload\n",
    "%autoreload 2"
   ]
  },
  {
   "cell_type": "markdown",
   "id": "6cab4b1a",
   "metadata": {},
   "source": [
    "## Importing libraries"
   ]
  },
  {
   "cell_type": "code",
   "execution_count": 322,
   "id": "ca60f277",
   "metadata": {},
   "outputs": [],
   "source": [
    "# data library\n",
    "import pandas as pd\n",
    "import numpy as np\n",
    "\n",
    "# visualization\n",
    "import matplotlib.pyplot as plt\n",
    "\n",
    "# python\n",
    "import random\n",
    "import time\n",
    "import pathlib\n",
    "\n",
    "#machine learning library\n",
    "import sklearn\n",
    "from sklearn.pipeline import Pipeline\n",
    "from sklearn.preprocessing import OneHotEncoder, OrdinalEncoder\n",
    "\n",
    "\n",
    "\n",
    "# baseline line library\n",
    "from feature_selection.baseline import get_rf_regressor_feature_importance, get_xgboost_regressor_feature_importance\n",
    "from feature_selection.mrmr import generate_xgboost_score, generate_rf_score"
   ]
  },
  {
   "cell_type": "markdown",
   "id": "cb404f02",
   "metadata": {},
   "source": [
    "## Reading and cleaning data\n",
    "The purpose of this exercise is to investigate the effects of feature selection so the data preprocessing will be the main focus"
   ]
  },
  {
   "cell_type": "code",
   "execution_count": 288,
   "id": "a7624aab",
   "metadata": {},
   "outputs": [],
   "source": [
    "train_df = pd.read_csv(\"data/housing_price_regression/train.csv\")\n",
    "train_df.head()\n",
    "\n",
    "train_df = train_df.drop(train_df[train_df['LotFrontage'] > 200].index)\n",
    "train_df = train_df.drop(train_df[train_df['LotArea'] > 100000].index)\n",
    "train_df = train_df.drop(train_df[train_df['BsmtFinSF1'] > 4000].index)\n",
    "train_df = train_df.drop(train_df[train_df['TotalBsmtSF'] > 5000].index)\n",
    "train_df = train_df.drop(train_df[train_df['GrLivArea'] > 4000].index)\n"
   ]
  },
  {
   "cell_type": "code",
   "execution_count": 289,
   "id": "c0740d1c",
   "metadata": {},
   "outputs": [
    {
     "name": "stdout",
     "output_type": "stream",
     "text": [
      "LotFrontage: 256 (17.6430%), decision:DROP\n",
      "Alley: 1360 (93.7285%), decision:DROP\n",
      "MasVnrType: 8 (0.5513%), decision:DONT DROP\n",
      "MasVnrArea: 8 (0.5513%), decision:DONT DROP\n",
      "BsmtQual: 37 (2.5500%), decision:DONT DROP\n",
      "BsmtCond: 37 (2.5500%), decision:DONT DROP\n",
      "BsmtExposure: 38 (2.6189%), decision:DONT DROP\n",
      "BsmtFinType1: 37 (2.5500%), decision:DONT DROP\n",
      "BsmtFinType2: 38 (2.6189%), decision:DONT DROP\n",
      "Electrical: 1 (0.0689%), decision:DONT DROP\n",
      "FireplaceQu: 690 (47.5534%), decision:DROP\n",
      "GarageType: 81 (5.5824%), decision:DONT DROP\n",
      "GarageYrBlt: 81 (5.5824%), decision:DONT DROP\n",
      "GarageFinish: 81 (5.5824%), decision:DONT DROP\n",
      "GarageQual: 81 (5.5824%), decision:DONT DROP\n",
      "GarageCond: 81 (5.5824%), decision:DONT DROP\n",
      "PoolQC: 1446 (99.6554%), decision:DROP\n",
      "Fence: 1171 (80.7030%), decision:DROP\n",
      "MiscFeature: 1399 (96.4163%), decision:DROP\n",
      "\n",
      "\n",
      "Columns to drop\n",
      "['LotFrontage', 'Alley', 'FireplaceQu', 'PoolQC', 'Fence', 'MiscFeature']\n"
     ]
    }
   ],
   "source": [
    "def cal_missing_data(df):\n",
    "    missing_data = df.isna().sum()\n",
    "    total_rows = len(train_df)\n",
    "    columns_to_use = []\n",
    "    columns_to_drop = []\n",
    "\n",
    "    for col_name, value in zip(missing_data.index, missing_data.values):\n",
    "        if value > 0:\n",
    "            percentage_missing = value/total_rows*100\n",
    "            if percentage_missing > 7.0:\n",
    "                columns_to_drop.append(col_name)\n",
    "                decision = \"DROP\"\n",
    "            else:\n",
    "                columns_to_use.append(col_name)\n",
    "                decision = \"DONT DROP\"\n",
    "\n",
    "            print(f\"{col_name}: {value} ({percentage_missing:.4f}%), decision:{decision}\")\n",
    "        else:\n",
    "            columns_to_use.append(col_name)\n",
    "\n",
    "\n",
    "    print(\"\\n\\nColumns to drop\")\n",
    "    print(columns_to_drop)\n",
    "cal_missing_data(train_df)"
   ]
  },
  {
   "cell_type": "code",
   "execution_count": 290,
   "id": "5ae274c4",
   "metadata": {},
   "outputs": [],
   "source": [
    "def housing_data_cleaning(df, column_to_use):\n",
    "    \"\"\"\n",
    "    This function performs the following stateless function\n",
    "    1. Drops unused columns and ensure schema is the correct order\n",
    "    2. Impute na rows \n",
    "    3. Drop errornous rows\n",
    "    \"\"\"\n",
    "    # drop columns\n",
    "    df = df[columns_to_use].copy()\n",
    "    \n",
    "    # impute \"None\"\n",
    "    columns_to_impute_none = [\"MasVnrType\", \"BsmtQual\", \"BsmtCond\", \n",
    "                              \"BsmtExposure\", \"BsmtFinType1\", \"BsmtFinType2\",\n",
    "                              \"GarageType\",\"GarageFinish\", \"GarageQual\", \"GarageCond\"]\n",
    "    \n",
    "    df[columns_to_impute_none] = df[columns_to_impute_none].fillna(\"NA\")\n",
    "    \n",
    "    #impute 0\n",
    "    df.loc[df[\"MasVnrArea\"].isna(), \"MasVnrArea\"] = 0\n",
    "    \n",
    "    #impute GarageYrBlt to house built year\n",
    "    df.loc[df['GarageYrBlt'].isna(), \"GarageYrBlt\"] = df.loc[df['GarageYrBlt'].isna(), \"YearBuilt\"]\n",
    "    \n",
    "    df = df.dropna()\n",
    "    return df"
   ]
  },
  {
   "cell_type": "code",
   "execution_count": 291,
   "id": "1dfef943",
   "metadata": {},
   "outputs": [],
   "source": [
    "cleaned_df = housing_data_cleaning(train_df, columns_to_use)"
   ]
  },
  {
   "cell_type": "code",
   "execution_count": 292,
   "id": "b8a841e7",
   "metadata": {},
   "outputs": [
    {
     "name": "stdout",
     "output_type": "stream",
     "text": [
      "\n",
      "\n",
      "Columns to drop\n",
      "[]\n"
     ]
    }
   ],
   "source": [
    "cal_missing_data(cleaned_df)"
   ]
  },
  {
   "cell_type": "markdown",
   "id": "cfc64f3c",
   "metadata": {},
   "source": [
    "## Encoding of categorical variables"
   ]
  },
  {
   "cell_type": "code",
   "execution_count": 293,
   "id": "6fc74dbf",
   "metadata": {},
   "outputs": [],
   "source": [
    "ordinal_encoding_cols = {\n",
    "    \"Street\":[\"Grvl\", \"Pave\"],\n",
    "    \"LotShape\": [\"IR3\", \"IR2\", \"IR1\", \"Reg\"],\n",
    "    \"LandContour\": [\"Low\", \"HLS\", \"Bnk\", \"Lvl\"],\n",
    "    \"Utilities\":[\"ELO\", \"NoSeWa\", \"NoSewr\", \"AllPub\"],\n",
    "    \"LandSlope\": [\"Sev\", \"Mod\", \"Gtl\"],\n",
    "    \"OverallQual\": [1,2,3,4,5,6,7,8,9,10],\n",
    "    \"OverallCond\":[1,2,3,4,5,6,7,8,9,10],\n",
    "    \"ExterQual\": [\"None\", \"NA\",\"Po\", \"Fa\", \"TA\", \"Gd\", \"Ex\"],\n",
    "    \"ExterCond\": [\"None\", \"NA\",\"Po\", \"Fa\", \"TA\", \"Gd\", \"Ex\"],\n",
    "    \"BsmtQual\":[\"None\", \"NA\",\"Po\", \"Fa\", \"TA\", \"Gd\", \"Ex\"],\n",
    "    \"BsmtCond\":[\"None\",\"NA\",\"Po\", \"Fa\", \"TA\", \"Gd\", \"Ex\"],\n",
    "    \"BsmtExposure\": [\"None\",\"NA\", \"No\", \"Mn\", \"Av\", \"Gd\"],\n",
    "    \"BsmtFinType1\":[\"None\",\"NA\", \"Unf\", \"LwQ\", \"Rec\", \"BLQ\", \"ALQ\", \"GLQ\"],\n",
    "    \"BsmtFinType2\":[\"None\",\"NA\", \"Unf\", \"LwQ\", \"Rec\", \"BLQ\", \"ALQ\", \"GLQ\"],\n",
    "    \"HeatingQC\":[\"NA\", \"Po\", \"Fa\", \"TA\", \"Gd\", \"Ex\"],\n",
    "    \"KitchenQual\":[\"NA\", \"Po\", \"Fa\", \"TA\", \"Gd\", \"Ex\"],\n",
    "    \"Functional\": [\"NA\", \"Sal\", \"Sev\", \"Maj2\", \"Maj1\", \"Mod\", \"Min2\", \"Min1\", \"Typ\"],\n",
    "    \"GarageFinish\":[\"NA\", \"NA\", \"Unf\", \"RFn\", \"Fin\"],\n",
    "    \"GarageQual\":[\"NA\", \"Po\", \"Fa\", \"TA\", \"Gd\", \"Ex\"],\n",
    "    \"GarageCond\":[\"NA\", \"Po\", \"Fa\", \"TA\", \"Gd\", \"Ex\"],\n",
    "    \"PavedDrive\":[\"N\",\"P\",\"Y\"]\n",
    "       \n",
    "}\n",
    "\n",
    "one_hot_encoding_cols = [\n",
    "    \"MSSubClass\", \"MSZoning\", \"LotConfig\", \"Neighborhood\", \"Condition1\", \"Condition2\", \"BldgType\",\n",
    "    \"HouseStyle\", \"RoofStyle\", \"RoofMatl\", \"Exterior1st\", \"Exterior2nd\", \"MasVnrType\", \"Foundation\",\n",
    "    \"Heating\",\"CentralAir\",\"Electrical\", \"GarageType\", \"SaleType\", \"SaleCondition\"\n",
    "]"
   ]
  },
  {
   "cell_type": "code",
   "execution_count": 294,
   "id": "1e993fe4",
   "metadata": {},
   "outputs": [],
   "source": [
    "# one hot encoding\n",
    "OHE = OneHotEncoder()\n",
    "one_hot_encoded_data = OHE.fit_transform(cleaned_df[one_hot_encoding_cols])\n",
    "encoded_df = pd.DataFrame(one_hot_encoded_data.todense(), columns=list(OHE.get_feature_names_out()))"
   ]
  },
  {
   "cell_type": "code",
   "execution_count": 295,
   "id": "3f8a458d",
   "metadata": {},
   "outputs": [],
   "source": [
    "# ordinal encoding\n",
    "ordinal_encoder = OrdinalEncoder(categories=list(ordinal_encoding_cols.values()))\n",
    "ordinal_encoded_data = ordinal_encoder.fit_transform(cleaned_df[list(ordinal_encoding_cols.keys())])\n",
    "encoded_df[ordinal_encoder.get_feature_names_out()] = ordinal_encoded_data"
   ]
  },
  {
   "cell_type": "code",
   "execution_count": 296,
   "id": "13da565e",
   "metadata": {},
   "outputs": [],
   "source": [
    "# convert encoding to float32 to save memory\n",
    "encoded_df = encoded_df.astype(np.float32)"
   ]
  },
  {
   "cell_type": "markdown",
   "id": "706c883e",
   "metadata": {},
   "source": [
    "## Random Forest feature importance"
   ]
  },
  {
   "cell_type": "code",
   "execution_count": 264,
   "id": "c840d734",
   "metadata": {},
   "outputs": [
    {
     "name": "stderr",
     "output_type": "stream",
     "text": [
      "\u001b[32m[I 2022-06-06 23:03:18,844]\u001b[0m A new study created in memory with name: no-name-18803aa0-6b73-4a45-abdf-ea26687529d1\u001b[0m\n",
      "\u001b[32m[I 2022-06-06 23:03:19,976]\u001b[0m Trial 0 finished with value: 0.00018034797239845085 and parameters: {'n_estimators': 77}. Best is trial 0 with value: 0.00018034797239845085.\u001b[0m\n",
      "\u001b[32m[I 2022-06-06 23:03:20,913]\u001b[0m Trial 1 finished with value: 0.00018077031512514976 and parameters: {'n_estimators': 71}. Best is trial 0 with value: 0.00018034797239845085.\u001b[0m\n",
      "\u001b[32m[I 2022-06-06 23:03:21,750]\u001b[0m Trial 2 finished with value: 0.0001809098886670258 and parameters: {'n_estimators': 54}. Best is trial 0 with value: 0.00018034797239845085.\u001b[0m\n",
      "\u001b[32m[I 2022-06-06 23:03:23,227]\u001b[0m Trial 3 finished with value: 0.00017936071797880886 and parameters: {'n_estimators': 109}. Best is trial 3 with value: 0.00017936071797880886.\u001b[0m\n",
      "\u001b[32m[I 2022-06-06 23:03:24,146]\u001b[0m Trial 4 finished with value: 0.00018105986479806466 and parameters: {'n_estimators': 67}. Best is trial 3 with value: 0.00017936071797880886.\u001b[0m\n",
      "\u001b[32m[I 2022-06-06 23:03:25,149]\u001b[0m Trial 5 finished with value: 0.00018067305275540417 and parameters: {'n_estimators': 60}. Best is trial 3 with value: 0.00017936071797880886.\u001b[0m\n",
      "\u001b[32m[I 2022-06-06 23:03:26,177]\u001b[0m Trial 6 finished with value: 0.00018077031512515 and parameters: {'n_estimators': 71}. Best is trial 3 with value: 0.00017936071797880886.\u001b[0m\n",
      "\u001b[32m[I 2022-06-06 23:03:27,032]\u001b[0m Trial 7 finished with value: 0.0001811057781506683 and parameters: {'n_estimators': 53}. Best is trial 3 with value: 0.00017936071797880886.\u001b[0m\n",
      "\u001b[32m[I 2022-06-06 23:03:28,388]\u001b[0m Trial 8 finished with value: 0.00017964670992046271 and parameters: {'n_estimators': 107}. Best is trial 3 with value: 0.00017936071797880886.\u001b[0m\n",
      "\u001b[32m[I 2022-06-06 23:03:30,208]\u001b[0m Trial 9 finished with value: 0.00017905057764315086 and parameters: {'n_estimators': 138}. Best is trial 9 with value: 0.00017905057764315086.\u001b[0m\n"
     ]
    },
    {
     "name": "stdout",
     "output_type": "stream",
     "text": [
      "Best_params\n",
      "{'n_estimators': 138}\n",
      "TOP 20 features\n",
      "Index(['OverallQual', 'GarageFinish', 'MSZoning_RM', 'BsmtFinType1',\n",
      "       'OverallCond', 'BsmtQual', 'GarageType_Detchd', 'BsmtExposure',\n",
      "       'KitchenQual', 'MSSubClass_30', 'CentralAir_N', 'CentralAir_Y',\n",
      "       'LotShape', 'HeatingQC', 'Neighborhood_NoRidge', 'MSSubClass_60',\n",
      "       'BldgType_1Fam', 'MSZoning_RL', 'GarageCond', 'ExterCond'],\n",
      "      dtype='object')\n"
     ]
    }
   ],
   "source": [
    "search_dict={\n",
    "    \"n_estimators\":{\n",
    "        \"type\": \"int\",\n",
    "        \"low\":40,\n",
    "        \"high\":150\n",
    "    }\n",
    "}\n",
    "rf_feature_importance_values = get_rf_regressor_feature_importance(encoded_df.to_numpy(), cleaned_df['SalePrice'].values, search_dict, n_trials=10)\n",
    "rf_feature_importance = encoded_df.columns[np.argsort(rf_feature_importance_values)[::-1]]\n",
    "print(\"TOP 20 features\")\n",
    "print(rf_feature_importance[:20])"
   ]
  },
  {
   "cell_type": "markdown",
   "id": "0d865f2a",
   "metadata": {},
   "source": [
    "## XGBoost"
   ]
  },
  {
   "cell_type": "code",
   "execution_count": 250,
   "id": "d9b22a2b",
   "metadata": {},
   "outputs": [
    {
     "name": "stderr",
     "output_type": "stream",
     "text": [
      "\u001b[32m[I 2022-06-06 22:52:11,163]\u001b[0m A new study created in memory with name: no-name-0d021d38-bf1e-437b-be6d-eeb1ba7abcc1\u001b[0m\n",
      "\u001b[32m[I 2022-06-06 22:52:14,720]\u001b[0m Trial 0 finished with value: 35159.29937212088 and parameters: {'n_estimators': 327, 'learning_rate': 0.3640017056771902, 'max_depth': 7, 'min_child_weight': 20, 'reg_alpha': 0.0807669267172637, 'reg_lambda': 0.08057645147518658}. Best is trial 0 with value: 35159.29937212088.\u001b[0m\n",
      "\u001b[32m[I 2022-06-06 22:52:30,946]\u001b[0m Trial 1 finished with value: 34677.01207465284 and parameters: {'n_estimators': 1316, 'learning_rate': 0.23957208003010785, 'max_depth': 6, 'min_child_weight': 18, 'reg_alpha': 0.07675253371050443, 'reg_lambda': 0.033551494795071454}. Best is trial 1 with value: 34677.01207465284.\u001b[0m\n",
      "\u001b[32m[I 2022-06-06 22:52:51,500]\u001b[0m Trial 2 finished with value: 34266.56669062397 and parameters: {'n_estimators': 1589, 'learning_rate': 0.07604137961674481, 'max_depth': 8, 'min_child_weight': 17, 'reg_alpha': 0.0906042190976301, 'reg_lambda': 0.09849124970529348}. Best is trial 2 with value: 34266.56669062397.\u001b[0m\n",
      "\u001b[32m[I 2022-06-06 22:53:01,941]\u001b[0m Trial 3 finished with value: 36272.631965560584 and parameters: {'n_estimators': 1064, 'learning_rate': 0.4763329092514745, 'max_depth': 7, 'min_child_weight': 18, 'reg_alpha': 0.05622497330306729, 'reg_lambda': 0.06218916226777397}. Best is trial 2 with value: 34266.56669062397.\u001b[0m\n",
      "\u001b[32m[I 2022-06-06 22:53:08,891]\u001b[0m Trial 4 finished with value: 35068.65721888211 and parameters: {'n_estimators': 1240, 'learning_rate': 0.34040521229732246, 'max_depth': 3, 'min_child_weight': 10, 'reg_alpha': 0.03071756509719092, 'reg_lambda': 0.03654645689759802}. Best is trial 2 with value: 34266.56669062397.\u001b[0m\n"
     ]
    },
    {
     "name": "stdout",
     "output_type": "stream",
     "text": [
      "Best_params\n",
      "{'n_estimators': 1589, 'learning_rate': 0.07604137961674481, 'max_depth': 8, 'min_child_weight': 17, 'reg_alpha': 0.0906042190976301, 'reg_lambda': 0.09849124970529348}\n",
      "TOP 20 features\n",
      "Index(['OverallQual', 'BsmtExposure', 'BsmtQual', 'GarageFinish',\n",
      "       'BsmtFinType1', 'KitchenQual', 'Neighborhood_NoRidge', 'ExterQual',\n",
      "       'MSZoning_RM', 'LotShape', 'GarageType_Detchd', 'OverallCond',\n",
      "       'MSSubClass_60', 'GarageType_Attchd', 'BldgType_1Fam', 'SaleType_New',\n",
      "       'BsmtFinType2', 'Neighborhood_Crawfor', 'HeatingQC', 'SaleType_WD'],\n",
      "      dtype='object')\n",
      "\n"
     ]
    }
   ],
   "source": [
    "xgboost_search_dict={\n",
    "    \"n_estimators\":{\n",
    "        \"type\": \"int\",\n",
    "        \"low\":100,\n",
    "        \"high\":2000\n",
    "    },\n",
    "    \"learning_rate\":{\n",
    "        \"type\": \"float\",\n",
    "        \"low\":0.01,\n",
    "        \"high\":0.5\n",
    "    },\n",
    "    \"max_depth\": {\n",
    "        \"type\": \"int\",\n",
    "        \"low\":3,\n",
    "        \"high\":9\n",
    "    },\n",
    "    \"min_child_weight\": {\n",
    "        \"type\": \"int\",\n",
    "        \"low\":1,\n",
    "        \"high\":20\n",
    "    },\n",
    "    \"reg_alpha\" :{\n",
    "        \"type\": \"float\",\n",
    "        \"low\":0.001,\n",
    "        \"high\":0.1\n",
    "    },\n",
    "    \"reg_lambda\":{\n",
    "        \"type\":\"float\",\n",
    "        \"low\":0.001,\n",
    "        \"high\":0.1\n",
    "    }\n",
    "}\n",
    "xgb_feature_importance_values = get_xgboost_regressor_feature_importance(encoded_df.to_numpy(), cleaned_df['SalePrice'].values, xgboost_search_dict, n_trials=5)\n",
    "xgb_feature_importance = encoded_df.columns[np.argsort(rf_feature_importance_values)[::-1]]\n",
    "print(\"TOP 20 features\")\n",
    "print(xgb_feature_importance[:20])\n",
    "print(\"\")"
   ]
  },
  {
   "cell_type": "markdown",
   "id": "f4114769",
   "metadata": {},
   "source": [
    "## MRMR"
   ]
  },
  {
   "cell_type": "code",
   "execution_count": 266,
   "id": "a2e486f9",
   "metadata": {},
   "outputs": [],
   "source": [
    "from sklearn.feature_selection import f_regression"
   ]
  },
  {
   "cell_type": "code",
   "execution_count": 269,
   "id": "f3107dd8",
   "metadata": {},
   "outputs": [],
   "source": [
    "F_score = pd.Series(f_regression(encoded_df, cleaned_df['SalePrice'].values)[0],index =encoded_df.columns)"
   ]
  },
  {
   "cell_type": "code",
   "execution_count": 276,
   "id": "709761b3",
   "metadata": {},
   "outputs": [
    {
     "data": {
      "text/plain": [
       "OverallQual             2997.892138\n",
       "ExterQual               1284.631892\n",
       "KitchenQual             1178.036967\n",
       "BsmtQual                 883.870586\n",
       "GarageFinish             842.469046\n",
       "Foundation_PConc         589.299697\n",
       "HeatingQC                430.042803\n",
       "GarageType_Attchd        300.796876\n",
       "MSSubClass_60            277.362426\n",
       "MasVnrType_None          277.190300\n",
       "GarageType_Detchd        257.117303\n",
       "GarageQual               223.353894\n",
       "GarageCond               214.168146\n",
       "Neighborhood_NridgHt     214.078175\n",
       "CentralAir_Y             207.099968\n",
       "CentralAir_N             207.099968\n",
       "Exterior2nd_VinylSd      202.019778\n",
       "Exterior1st_VinylSd      200.454388\n",
       "MSZoning_RM              199.666245\n",
       "BsmtExposure             198.992050\n",
       "dtype: float64"
      ]
     },
     "execution_count": 276,
     "metadata": {},
     "output_type": "execute_result"
    }
   ],
   "source": [
    "F_score.sort_values(ascending=False)[:20]"
   ]
  },
  {
   "cell_type": "code",
   "execution_count": 277,
   "id": "e460c79d",
   "metadata": {},
   "outputs": [],
   "source": [
    "corr =encoded_df.corr().abs().clip(0.00001)"
   ]
  },
  {
   "cell_type": "code",
   "execution_count": 278,
   "id": "047c247f",
   "metadata": {},
   "outputs": [
    {
     "data": {
      "text/html": [
       "<div>\n",
       "<style scoped>\n",
       "    .dataframe tbody tr th:only-of-type {\n",
       "        vertical-align: middle;\n",
       "    }\n",
       "\n",
       "    .dataframe tbody tr th {\n",
       "        vertical-align: top;\n",
       "    }\n",
       "\n",
       "    .dataframe thead th {\n",
       "        text-align: right;\n",
       "    }\n",
       "</style>\n",
       "<table border=\"1\" class=\"dataframe\">\n",
       "  <thead>\n",
       "    <tr style=\"text-align: right;\">\n",
       "      <th></th>\n",
       "      <th>MSSubClass_20</th>\n",
       "      <th>MSSubClass_30</th>\n",
       "      <th>MSSubClass_40</th>\n",
       "      <th>MSSubClass_45</th>\n",
       "      <th>MSSubClass_50</th>\n",
       "      <th>MSSubClass_60</th>\n",
       "      <th>MSSubClass_70</th>\n",
       "      <th>MSSubClass_75</th>\n",
       "      <th>MSSubClass_80</th>\n",
       "      <th>MSSubClass_85</th>\n",
       "      <th>...</th>\n",
       "      <th>BsmtExposure</th>\n",
       "      <th>BsmtFinType1</th>\n",
       "      <th>BsmtFinType2</th>\n",
       "      <th>HeatingQC</th>\n",
       "      <th>KitchenQual</th>\n",
       "      <th>Functional</th>\n",
       "      <th>GarageFinish</th>\n",
       "      <th>GarageQual</th>\n",
       "      <th>GarageCond</th>\n",
       "      <th>PavedDrive</th>\n",
       "    </tr>\n",
       "  </thead>\n",
       "  <tbody>\n",
       "    <tr>\n",
       "      <th>MSSubClass_20</th>\n",
       "      <td>1.000000</td>\n",
       "      <td>0.170415</td>\n",
       "      <td>0.040098</td>\n",
       "      <td>0.069645</td>\n",
       "      <td>0.252179</td>\n",
       "      <td>0.385300</td>\n",
       "      <td>0.158397</td>\n",
       "      <td>0.080531</td>\n",
       "      <td>0.154220</td>\n",
       "      <td>0.090162</td>\n",
       "      <td>...</td>\n",
       "      <td>0.028976</td>\n",
       "      <td>0.120446</td>\n",
       "      <td>0.064453</td>\n",
       "      <td>0.014218</td>\n",
       "      <td>0.036439</td>\n",
       "      <td>0.031854</td>\n",
       "      <td>0.059013</td>\n",
       "      <td>0.110137</td>\n",
       "      <td>0.114069</td>\n",
       "      <td>0.149916</td>\n",
       "    </tr>\n",
       "    <tr>\n",
       "      <th>MSSubClass_30</th>\n",
       "      <td>0.170415</td>\n",
       "      <td>1.000000</td>\n",
       "      <td>0.011756</td>\n",
       "      <td>0.020419</td>\n",
       "      <td>0.073936</td>\n",
       "      <td>0.112966</td>\n",
       "      <td>0.046440</td>\n",
       "      <td>0.023611</td>\n",
       "      <td>0.045216</td>\n",
       "      <td>0.026435</td>\n",
       "      <td>...</td>\n",
       "      <td>0.099896</td>\n",
       "      <td>0.124523</td>\n",
       "      <td>0.032514</td>\n",
       "      <td>0.094147</td>\n",
       "      <td>0.191184</td>\n",
       "      <td>0.111304</td>\n",
       "      <td>0.225333</td>\n",
       "      <td>0.236020</td>\n",
       "      <td>0.227671</td>\n",
       "      <td>0.208211</td>\n",
       "    </tr>\n",
       "    <tr>\n",
       "      <th>MSSubClass_40</th>\n",
       "      <td>0.040098</td>\n",
       "      <td>0.011756</td>\n",
       "      <td>1.000000</td>\n",
       "      <td>0.004805</td>\n",
       "      <td>0.017397</td>\n",
       "      <td>0.026581</td>\n",
       "      <td>0.010927</td>\n",
       "      <td>0.005556</td>\n",
       "      <td>0.010639</td>\n",
       "      <td>0.006220</td>\n",
       "      <td>...</td>\n",
       "      <td>0.019111</td>\n",
       "      <td>0.013379</td>\n",
       "      <td>0.014496</td>\n",
       "      <td>0.035254</td>\n",
       "      <td>0.000549</td>\n",
       "      <td>0.012513</td>\n",
       "      <td>0.012378</td>\n",
       "      <td>0.013859</td>\n",
       "      <td>0.014022</td>\n",
       "      <td>0.011108</td>\n",
       "    </tr>\n",
       "    <tr>\n",
       "      <th>MSSubClass_45</th>\n",
       "      <td>0.069645</td>\n",
       "      <td>0.020419</td>\n",
       "      <td>0.004805</td>\n",
       "      <td>1.000000</td>\n",
       "      <td>0.030216</td>\n",
       "      <td>0.046167</td>\n",
       "      <td>0.018979</td>\n",
       "      <td>0.009649</td>\n",
       "      <td>0.018479</td>\n",
       "      <td>0.010803</td>\n",
       "      <td>...</td>\n",
       "      <td>0.038944</td>\n",
       "      <td>0.066602</td>\n",
       "      <td>0.025178</td>\n",
       "      <td>0.045372</td>\n",
       "      <td>0.024007</td>\n",
       "      <td>0.021733</td>\n",
       "      <td>0.098405</td>\n",
       "      <td>0.101935</td>\n",
       "      <td>0.102216</td>\n",
       "      <td>0.065153</td>\n",
       "    </tr>\n",
       "    <tr>\n",
       "      <th>MSSubClass_50</th>\n",
       "      <td>0.252179</td>\n",
       "      <td>0.073936</td>\n",
       "      <td>0.017397</td>\n",
       "      <td>0.030216</td>\n",
       "      <td>1.000000</td>\n",
       "      <td>0.167167</td>\n",
       "      <td>0.068722</td>\n",
       "      <td>0.034939</td>\n",
       "      <td>0.066910</td>\n",
       "      <td>0.039118</td>\n",
       "      <td>...</td>\n",
       "      <td>0.149414</td>\n",
       "      <td>0.200532</td>\n",
       "      <td>0.005476</td>\n",
       "      <td>0.087983</td>\n",
       "      <td>0.159313</td>\n",
       "      <td>0.094020</td>\n",
       "      <td>0.237528</td>\n",
       "      <td>0.078751</td>\n",
       "      <td>0.056037</td>\n",
       "      <td>0.159272</td>\n",
       "    </tr>\n",
       "    <tr>\n",
       "      <th>...</th>\n",
       "      <td>...</td>\n",
       "      <td>...</td>\n",
       "      <td>...</td>\n",
       "      <td>...</td>\n",
       "      <td>...</td>\n",
       "      <td>...</td>\n",
       "      <td>...</td>\n",
       "      <td>...</td>\n",
       "      <td>...</td>\n",
       "      <td>...</td>\n",
       "      <td>...</td>\n",
       "      <td>...</td>\n",
       "      <td>...</td>\n",
       "      <td>...</td>\n",
       "      <td>...</td>\n",
       "      <td>...</td>\n",
       "      <td>...</td>\n",
       "      <td>...</td>\n",
       "      <td>...</td>\n",
       "      <td>...</td>\n",
       "      <td>...</td>\n",
       "    </tr>\n",
       "    <tr>\n",
       "      <th>Functional</th>\n",
       "      <td>0.031854</td>\n",
       "      <td>0.111304</td>\n",
       "      <td>0.012513</td>\n",
       "      <td>0.021733</td>\n",
       "      <td>0.094020</td>\n",
       "      <td>0.079300</td>\n",
       "      <td>0.007453</td>\n",
       "      <td>0.025130</td>\n",
       "      <td>0.015471</td>\n",
       "      <td>0.007186</td>\n",
       "      <td>...</td>\n",
       "      <td>0.070680</td>\n",
       "      <td>0.116251</td>\n",
       "      <td>0.074324</td>\n",
       "      <td>0.058081</td>\n",
       "      <td>0.106187</td>\n",
       "      <td>1.000000</td>\n",
       "      <td>0.121307</td>\n",
       "      <td>0.080792</td>\n",
       "      <td>0.080698</td>\n",
       "      <td>0.083851</td>\n",
       "    </tr>\n",
       "    <tr>\n",
       "      <th>GarageFinish</th>\n",
       "      <td>0.059013</td>\n",
       "      <td>0.225333</td>\n",
       "      <td>0.012378</td>\n",
       "      <td>0.098405</td>\n",
       "      <td>0.237528</td>\n",
       "      <td>0.380093</td>\n",
       "      <td>0.138295</td>\n",
       "      <td>0.084144</td>\n",
       "      <td>0.030075</td>\n",
       "      <td>0.001282</td>\n",
       "      <td>...</td>\n",
       "      <td>0.244699</td>\n",
       "      <td>0.244600</td>\n",
       "      <td>0.002053</td>\n",
       "      <td>0.390637</td>\n",
       "      <td>0.471696</td>\n",
       "      <td>0.121307</td>\n",
       "      <td>1.000000</td>\n",
       "      <td>0.483276</td>\n",
       "      <td>0.482668</td>\n",
       "      <td>0.289190</td>\n",
       "    </tr>\n",
       "    <tr>\n",
       "      <th>GarageQual</th>\n",
       "      <td>0.110137</td>\n",
       "      <td>0.236020</td>\n",
       "      <td>0.013859</td>\n",
       "      <td>0.101935</td>\n",
       "      <td>0.078751</td>\n",
       "      <td>0.140262</td>\n",
       "      <td>0.036004</td>\n",
       "      <td>0.017698</td>\n",
       "      <td>0.063094</td>\n",
       "      <td>0.031163</td>\n",
       "      <td>...</td>\n",
       "      <td>0.074626</td>\n",
       "      <td>0.146057</td>\n",
       "      <td>0.054473</td>\n",
       "      <td>0.145413</td>\n",
       "      <td>0.238262</td>\n",
       "      <td>0.080792</td>\n",
       "      <td>0.483276</td>\n",
       "      <td>1.000000</td>\n",
       "      <td>0.959152</td>\n",
       "      <td>0.364640</td>\n",
       "    </tr>\n",
       "    <tr>\n",
       "      <th>GarageCond</th>\n",
       "      <td>0.114069</td>\n",
       "      <td>0.227671</td>\n",
       "      <td>0.014022</td>\n",
       "      <td>0.102216</td>\n",
       "      <td>0.056037</td>\n",
       "      <td>0.137107</td>\n",
       "      <td>0.050161</td>\n",
       "      <td>0.045017</td>\n",
       "      <td>0.058845</td>\n",
       "      <td>0.039721</td>\n",
       "      <td>...</td>\n",
       "      <td>0.069738</td>\n",
       "      <td>0.147649</td>\n",
       "      <td>0.049879</td>\n",
       "      <td>0.155307</td>\n",
       "      <td>0.232113</td>\n",
       "      <td>0.080698</td>\n",
       "      <td>0.482668</td>\n",
       "      <td>0.959152</td>\n",
       "      <td>1.000000</td>\n",
       "      <td>0.384902</td>\n",
       "    </tr>\n",
       "    <tr>\n",
       "      <th>PavedDrive</th>\n",
       "      <td>0.149916</td>\n",
       "      <td>0.208211</td>\n",
       "      <td>0.011108</td>\n",
       "      <td>0.065153</td>\n",
       "      <td>0.159272</td>\n",
       "      <td>0.140098</td>\n",
       "      <td>0.182947</td>\n",
       "      <td>0.062080</td>\n",
       "      <td>0.058830</td>\n",
       "      <td>0.034394</td>\n",
       "      <td>...</td>\n",
       "      <td>0.113484</td>\n",
       "      <td>0.252137</td>\n",
       "      <td>0.087930</td>\n",
       "      <td>0.157431</td>\n",
       "      <td>0.212734</td>\n",
       "      <td>0.083851</td>\n",
       "      <td>0.289190</td>\n",
       "      <td>0.364640</td>\n",
       "      <td>0.384902</td>\n",
       "      <td>1.000000</td>\n",
       "    </tr>\n",
       "  </tbody>\n",
       "</table>\n",
       "<p>191 rows × 191 columns</p>\n",
       "</div>"
      ],
      "text/plain": [
       "               MSSubClass_20  MSSubClass_30  MSSubClass_40  MSSubClass_45  \\\n",
       "MSSubClass_20       1.000000       0.170415       0.040098       0.069645   \n",
       "MSSubClass_30       0.170415       1.000000       0.011756       0.020419   \n",
       "MSSubClass_40       0.040098       0.011756       1.000000       0.004805   \n",
       "MSSubClass_45       0.069645       0.020419       0.004805       1.000000   \n",
       "MSSubClass_50       0.252179       0.073936       0.017397       0.030216   \n",
       "...                      ...            ...            ...            ...   \n",
       "Functional          0.031854       0.111304       0.012513       0.021733   \n",
       "GarageFinish        0.059013       0.225333       0.012378       0.098405   \n",
       "GarageQual          0.110137       0.236020       0.013859       0.101935   \n",
       "GarageCond          0.114069       0.227671       0.014022       0.102216   \n",
       "PavedDrive          0.149916       0.208211       0.011108       0.065153   \n",
       "\n",
       "               MSSubClass_50  MSSubClass_60  MSSubClass_70  MSSubClass_75  \\\n",
       "MSSubClass_20       0.252179       0.385300       0.158397       0.080531   \n",
       "MSSubClass_30       0.073936       0.112966       0.046440       0.023611   \n",
       "MSSubClass_40       0.017397       0.026581       0.010927       0.005556   \n",
       "MSSubClass_45       0.030216       0.046167       0.018979       0.009649   \n",
       "MSSubClass_50       1.000000       0.167167       0.068722       0.034939   \n",
       "...                      ...            ...            ...            ...   \n",
       "Functional          0.094020       0.079300       0.007453       0.025130   \n",
       "GarageFinish        0.237528       0.380093       0.138295       0.084144   \n",
       "GarageQual          0.078751       0.140262       0.036004       0.017698   \n",
       "GarageCond          0.056037       0.137107       0.050161       0.045017   \n",
       "PavedDrive          0.159272       0.140098       0.182947       0.062080   \n",
       "\n",
       "               MSSubClass_80  MSSubClass_85  ...  BsmtExposure  BsmtFinType1  \\\n",
       "MSSubClass_20       0.154220       0.090162  ...      0.028976      0.120446   \n",
       "MSSubClass_30       0.045216       0.026435  ...      0.099896      0.124523   \n",
       "MSSubClass_40       0.010639       0.006220  ...      0.019111      0.013379   \n",
       "MSSubClass_45       0.018479       0.010803  ...      0.038944      0.066602   \n",
       "MSSubClass_50       0.066910       0.039118  ...      0.149414      0.200532   \n",
       "...                      ...            ...  ...           ...           ...   \n",
       "Functional          0.015471       0.007186  ...      0.070680      0.116251   \n",
       "GarageFinish        0.030075       0.001282  ...      0.244699      0.244600   \n",
       "GarageQual          0.063094       0.031163  ...      0.074626      0.146057   \n",
       "GarageCond          0.058845       0.039721  ...      0.069738      0.147649   \n",
       "PavedDrive          0.058830       0.034394  ...      0.113484      0.252137   \n",
       "\n",
       "               BsmtFinType2  HeatingQC  KitchenQual  Functional  GarageFinish  \\\n",
       "MSSubClass_20      0.064453   0.014218     0.036439    0.031854      0.059013   \n",
       "MSSubClass_30      0.032514   0.094147     0.191184    0.111304      0.225333   \n",
       "MSSubClass_40      0.014496   0.035254     0.000549    0.012513      0.012378   \n",
       "MSSubClass_45      0.025178   0.045372     0.024007    0.021733      0.098405   \n",
       "MSSubClass_50      0.005476   0.087983     0.159313    0.094020      0.237528   \n",
       "...                     ...        ...          ...         ...           ...   \n",
       "Functional         0.074324   0.058081     0.106187    1.000000      0.121307   \n",
       "GarageFinish       0.002053   0.390637     0.471696    0.121307      1.000000   \n",
       "GarageQual         0.054473   0.145413     0.238262    0.080792      0.483276   \n",
       "GarageCond         0.049879   0.155307     0.232113    0.080698      0.482668   \n",
       "PavedDrive         0.087930   0.157431     0.212734    0.083851      0.289190   \n",
       "\n",
       "               GarageQual  GarageCond  PavedDrive  \n",
       "MSSubClass_20    0.110137    0.114069    0.149916  \n",
       "MSSubClass_30    0.236020    0.227671    0.208211  \n",
       "MSSubClass_40    0.013859    0.014022    0.011108  \n",
       "MSSubClass_45    0.101935    0.102216    0.065153  \n",
       "MSSubClass_50    0.078751    0.056037    0.159272  \n",
       "...                   ...         ...         ...  \n",
       "Functional       0.080792    0.080698    0.083851  \n",
       "GarageFinish     0.483276    0.482668    0.289190  \n",
       "GarageQual       1.000000    0.959152    0.364640  \n",
       "GarageCond       0.959152    1.000000    0.384902  \n",
       "PavedDrive       0.364640    0.384902    1.000000  \n",
       "\n",
       "[191 rows x 191 columns]"
      ]
     },
     "execution_count": 278,
     "metadata": {},
     "output_type": "execute_result"
    }
   ],
   "source": [
    "corr"
   ]
  },
  {
   "cell_type": "code",
   "execution_count": 285,
   "id": "ceed6ae6",
   "metadata": {},
   "outputs": [],
   "source": [
    "corr = pd.DataFrame(.00001, index = encoded_df.columns, columns = encoded_df.columns)\n",
    "\n",
    "# initialize list of selected features and list of excluded features\n",
    "selected = []\n",
    "not_selected = encoded_df.columns.to_list()\n",
    "\n",
    "# repeat K times\n",
    "for i in range(191):\n",
    "  \n",
    "    # compute (absolute) correlations between the last selected feature and all the (currently) excluded features\n",
    "    if i > 0:\n",
    "        last_selected = selected[-1]\n",
    "        corr.loc[not_selected, last_selected] = encoded_df[not_selected].corrwith(encoded_df[last_selected]).abs().clip(.00001)\n",
    "        \n",
    "    # compute FCQ score for all the (currently) excluded features (this is Formula 2)\n",
    "    score = F_score.loc[not_selected] / corr.loc[not_selected, selected].mean(axis = 1).fillna(.00001)\n",
    "    \n",
    "    # find best feature, add it to selected and remove it from not_selected\n",
    "    best = score.index[score.argmax()]\n",
    "    selected.append(best)\n",
    "    not_selected.remove(best)"
   ]
  },
  {
   "cell_type": "code",
   "execution_count": 287,
   "id": "81eed845",
   "metadata": {},
   "outputs": [
    {
     "data": {
      "text/plain": [
       "['OverallQual',\n",
       " 'BldgType_Twnhs',\n",
       " 'KitchenQual',\n",
       " 'ExterQual',\n",
       " 'BsmtQual',\n",
       " 'GarageFinish',\n",
       " 'Foundation_PConc',\n",
       " 'MSSubClass_30',\n",
       " 'HeatingQC',\n",
       " 'MSZoning_RL',\n",
       " 'MSSubClass_60',\n",
       " 'MasVnrType_None',\n",
       " 'GarageQual',\n",
       " 'BsmtExposure',\n",
       " 'GarageType_Attchd',\n",
       " 'Neighborhood_NridgHt',\n",
       " 'CentralAir_Y',\n",
       " 'SaleType_New',\n",
       " 'BsmtFinType1',\n",
       " 'GarageType_Detchd']"
      ]
     },
     "execution_count": 287,
     "metadata": {},
     "output_type": "execute_result"
    }
   ],
   "source": [
    "selected[:20]"
   ]
  },
  {
   "cell_type": "markdown",
   "id": "622a95ed",
   "metadata": {},
   "source": [
    "## Trying out how the feature importance score changes with increasing features"
   ]
  },
  {
   "cell_type": "code",
   "execution_count": 317,
   "id": "9b83b3d8",
   "metadata": {},
   "outputs": [],
   "source": [
    "num_variable = 150"
   ]
  },
  {
   "cell_type": "code",
   "execution_count": 318,
   "id": "d1ece6b5",
   "metadata": {},
   "outputs": [],
   "source": [
    "rf_scores = generate_xgboost_score(encoded_df[list(rf_feature_importance[:num_variable])].to_numpy(), cleaned_df['SalePrice'].values,list(rf_feature_importance[:num_variable]))"
   ]
  },
  {
   "cell_type": "code",
   "execution_count": 319,
   "id": "0796b3d4",
   "metadata": {},
   "outputs": [],
   "source": [
    "xgboost_scores = generate_xgboost_score(encoded_df[list(xgb_feature_importance[:num_variable])].to_numpy(), cleaned_df['SalePrice'].values,list(xgb_feature_importance[:num_variable]))"
   ]
  },
  {
   "cell_type": "code",
   "execution_count": 320,
   "id": "963b38f2",
   "metadata": {},
   "outputs": [],
   "source": [
    "mrmr_scores = generate_xgboost_score(encoded_df[selected[:num_variable]].to_numpy(), cleaned_df['SalePrice'].values,selected[:num_variable])"
   ]
  },
  {
   "cell_type": "code",
   "execution_count": 321,
   "id": "171f4418",
   "metadata": {},
   "outputs": [
    {
     "data": {
      "text/plain": [
       "<matplotlib.legend.Legend at 0x7f1746f978b0>"
      ]
     },
     "execution_count": 321,
     "metadata": {},
     "output_type": "execute_result"
    },
    {
     "data": {
      "image/png": "[encoded data removed]",
      "text/plain": [
       "<Figure size 432x288 with 1 Axes>"
      ]
     },
     "metadata": {
      "needs_background": "light"
     },
     "output_type": "display_data"
    }
   ],
   "source": [
    "plt.plot(rf_scores, label='rf')\n",
    "plt.plot(mrmr_scores,label='mmr')\n",
    "plt.plot(xgboost_scores,label='xgb')\n",
    "plt.legend()"
   ]
  },
  {
   "cell_type": "code",
   "execution_count": 323,
   "id": "7fe7e5d1",
   "metadata": {},
   "outputs": [],
   "source": [
    "rf_scores_1 = generate_rf_score(encoded_df[list(rf_feature_importance[:num_variable])].to_numpy(), cleaned_df['SalePrice'].values,list(rf_feature_importance[:num_variable]))"
   ]
  },
  {
   "cell_type": "code",
   "execution_count": 324,
   "id": "e3d95aad",
   "metadata": {},
   "outputs": [],
   "source": [
    "xgboost_scores_1 = generate_rf_score(encoded_df[list(xgb_feature_importance[:num_variable])].to_numpy(), cleaned_df['SalePrice'].values,list(xgb_feature_importance[:num_variable]))"
   ]
  },
  {
   "cell_type": "code",
   "execution_count": 325,
   "id": "9755cb5c",
   "metadata": {},
   "outputs": [],
   "source": [
    "mrmr_scores_1 = generate_rf_score(encoded_df[selected[:num_variable]].to_numpy(), cleaned_df['SalePrice'].values,selected[:num_variable])"
   ]
  },
  {
   "cell_type": "code",
   "execution_count": 326,
   "id": "3ae295d7",
   "metadata": {},
   "outputs": [
    {
     "data": {
      "text/plain": [
       "<matplotlib.legend.Legend at 0x7f18250b6160>"
      ]
     },
     "execution_count": 326,
     "metadata": {},
     "output_type": "execute_result"
    },
    {
     "data": {
      "image/png": "[encoded data removed]",
      "text/plain": [
       "<Figure size 432x288 with 1 Axes>"
      ]
     },
     "metadata": {
      "needs_background": "light"
     },
     "output_type": "display_data"
    }
   ],
   "source": [
    "plt.plot(rf_scores_1, label='rf')\n",
    "plt.plot(mrmr_scores_1,label='mmr')\n",
    "plt.plot(xgboost_scores_1,label='xgb')\n",
    "plt.legend()"
   ]
  },
  {
   "cell_type": "code",
   "execution_count": 327,
   "id": "e4670228",
   "metadata": {},
   "outputs": [],
   "source": [
    "from sklearn.ensemble import RandomForestRegressor"
   ]
  },
  {
   "cell_type": "code",
   "execution_count": 328,
   "id": "1c2e2efc",
   "metadata": {},
   "outputs": [],
   "source": [
    "regressor = RandomForestRegressor()"
   ]
  },
  {
   "cell_type": "code",
   "execution_count": 329,
   "id": "9fd292db",
   "metadata": {},
   "outputs": [
    {
     "data": {
      "text/html": [
       "<style>#sk-container-id-3 {color: black;background-color: white;}#sk-container-id-3 pre{padding: 0;}#sk-container-id-3 div.sk-toggleable {background-color: white;}#sk-container-id-3 label.sk-toggleable__label {cursor: pointer;display: block;width: 100%;margin-bottom: 0;padding: 0.3em;box-sizing: border-box;text-align: center;}#sk-container-id-3 label.sk-toggleable__label-arrow:before {content: \"▸\";float: left;margin-right: 0.25em;color: #696969;}#sk-container-id-3 label.sk-toggleable__label-arrow:hover:before {color: black;}#sk-container-id-3 div.sk-estimator:hover label.sk-toggleable__label-arrow:before {color: black;}#sk-container-id-3 div.sk-toggleable__content {max-height: 0;max-width: 0;overflow: hidden;text-align: left;background-color: #f0f8ff;}#sk-container-id-3 div.sk-toggleable__content pre {margin: 0.2em;color: black;border-radius: 0.25em;background-color: #f0f8ff;}#sk-container-id-3 input.sk-toggleable__control:checked~div.sk-toggleable__content {max-height: 200px;max-width: 100%;overflow: auto;}#sk-container-id-3 input.sk-toggleable__control:checked~label.sk-toggleable__label-arrow:before {content: \"▾\";}#sk-container-id-3 div.sk-estimator input.sk-toggleable__control:checked~label.sk-toggleable__label {background-color: #d4ebff;}#sk-container-id-3 div.sk-label input.sk-toggleable__control:checked~label.sk-toggleable__label {background-color: #d4ebff;}#sk-container-id-3 input.sk-hidden--visually {border: 0;clip: rect(1px 1px 1px 1px);clip: rect(1px, 1px, 1px, 1px);height: 1px;margin: -1px;overflow: hidden;padding: 0;position: absolute;width: 1px;}#sk-container-id-3 div.sk-estimator {font-family: monospace;background-color: #f0f8ff;border: 1px dotted black;border-radius: 0.25em;box-sizing: border-box;margin-bottom: 0.5em;}#sk-container-id-3 div.sk-estimator:hover {background-color: #d4ebff;}#sk-container-id-3 div.sk-parallel-item::after {content: \"\";width: 100%;border-bottom: 1px solid gray;flex-grow: 1;}#sk-container-id-3 div.sk-label:hover label.sk-toggleable__label {background-color: #d4ebff;}#sk-container-id-3 div.sk-serial::before {content: \"\";position: absolute;border-left: 1px solid gray;box-sizing: border-box;top: 0;bottom: 0;left: 50%;z-index: 0;}#sk-container-id-3 div.sk-serial {display: flex;flex-direction: column;align-items: center;background-color: white;padding-right: 0.2em;padding-left: 0.2em;position: relative;}#sk-container-id-3 div.sk-item {position: relative;z-index: 1;}#sk-container-id-3 div.sk-parallel {display: flex;align-items: stretch;justify-content: center;background-color: white;position: relative;}#sk-container-id-3 div.sk-item::before, #sk-container-id-3 div.sk-parallel-item::before {content: \"\";position: absolute;border-left: 1px solid gray;box-sizing: border-box;top: 0;bottom: 0;left: 50%;z-index: -1;}#sk-container-id-3 div.sk-parallel-item {display: flex;flex-direction: column;z-index: 1;position: relative;background-color: white;}#sk-container-id-3 div.sk-parallel-item:first-child::after {align-self: flex-end;width: 50%;}#sk-container-id-3 div.sk-parallel-item:last-child::after {align-self: flex-start;width: 50%;}#sk-container-id-3 div.sk-parallel-item:only-child::after {width: 0;}#sk-container-id-3 div.sk-dashed-wrapped {border: 1px dashed gray;margin: 0 0.4em 0.5em 0.4em;box-sizing: border-box;padding-bottom: 0.4em;background-color: white;}#sk-container-id-3 div.sk-label label {font-family: monospace;font-weight: bold;display: inline-block;line-height: 1.2em;}#sk-container-id-3 div.sk-label-container {text-align: center;}#sk-container-id-3 div.sk-container {/* jupyter's `normalize.less` sets `[hidden] { display: none; }` but bootstrap.min.css set `[hidden] { display: none !important; }` so we also need the `!important` here to be able to override the default hidden behavior on the sphinx rendered scikit-learn.org. See: https://github.com/scikit-learn/scikit-learn/issues/21755 */display: inline-block !important;position: relative;}#sk-container-id-3 div.sk-text-repr-fallback {display: none;}</style><div id=\"sk-container-id-3\" class=\"sk-top-container\"><div class=\"sk-text-repr-fallback\"><pre>RandomForestRegressor()</pre><b>In a Jupyter environment, please rerun this cell to show the HTML representation or trust the notebook. <br />On GitHub, the HTML representation is unable to render, please try loading this page with nbviewer.org.</b></div><div class=\"sk-container\" hidden><div class=\"sk-item\"><div class=\"sk-estimator sk-toggleable\"><input class=\"sk-toggleable__control sk-hidden--visually\" id=\"sk-estimator-id-3\" type=\"checkbox\" checked><label for=\"sk-estimator-id-3\" class=\"sk-toggleable__label sk-toggleable__label-arrow\">RandomForestRegressor</label><div class=\"sk-toggleable__content\"><pre>RandomForestRegressor()</pre></div></div></div></div></div>"
      ],
      "text/plain": [
       "RandomForestRegressor()"
      ]
     },
     "execution_count": 329,
     "metadata": {},
     "output_type": "execute_result"
    }
   ],
   "source": [
    "regressor.fit(encoded_df.to_numpy(), cleaned_df['SalePrice'].values)"
   ]
  },
  {
   "cell_type": "code",
   "execution_count": 331,
   "id": "c9e0834e",
   "metadata": {},
   "outputs": [],
   "source": [
    "rf_feature_importance_untuned = encoded_df.columns[np.argsort(regressor.feature_importances_)[::-1]]"
   ]
  },
  {
   "cell_type": "code",
   "execution_count": 332,
   "id": "0d7d4dbe",
   "metadata": {},
   "outputs": [
    {
     "data": {
      "text/plain": [
       "Index(['OverallQual', 'BsmtExposure', 'BsmtQual', 'GarageFinish',\n",
       "       'KitchenQual', 'BsmtFinType1', 'Neighborhood_NoRidge', 'LotShape',\n",
       "       'MSZoning_RM', 'GarageType_Detchd',\n",
       "       ...\n",
       "       'Heating_Floor', 'Condition2_Artery', 'Exterior2nd_CBlock',\n",
       "       'Heating_OthW', 'RoofMatl_Roll', 'RoofMatl_Membran',\n",
       "       'Exterior1st_CBlock', 'Condition2_RRAn', 'Exterior1st_AsphShn',\n",
       "       'Condition2_PosA'],\n",
       "      dtype='object', length=191)"
      ]
     },
     "execution_count": 332,
     "metadata": {},
     "output_type": "execute_result"
    }
   ],
   "source": [
    "rf_feature_importance_untuned"
   ]
  },
  {
   "cell_type": "code",
   "execution_count": 336,
   "id": "73589e94",
   "metadata": {},
   "outputs": [
    {
     "data": {
      "text/plain": [
       "Index(['OverallQual', 'BsmtExposure', 'BsmtQual', 'GarageFinish',\n",
       "       'BsmtFinType1', 'KitchenQual', 'Neighborhood_NoRidge', 'ExterQual',\n",
       "       'MSZoning_RM', 'LotShape',\n",
       "       ...\n",
       "       'Condition2_RRAn', 'Condition2_PosN', 'Condition2_Artery',\n",
       "       'Electrical_Mix', 'Exterior1st_AsphShn', 'Condition2_RRNn',\n",
       "       'Exterior2nd_CBlock', 'Exterior1st_CBlock', 'Exterior1st_ImStucc',\n",
       "       'RoofMatl_Roll'],\n",
       "      dtype='object', length=191)"
      ]
     },
     "execution_count": 336,
     "metadata": {},
     "output_type": "execute_result"
    }
   ],
   "source": [
    "xgb_feature_importance"
   ]
  },
  {
   "cell_type": "code",
   "execution_count": 334,
   "id": "d82ba966",
   "metadata": {},
   "outputs": [],
   "source": [
    "rf_scores_2 = generate_rf_score(encoded_df[list(rf_feature_importance_untuned[:num_variable])].to_numpy(), cleaned_df['SalePrice'].values,list(rf_feature_importance_untuned[:num_variable]))\n",
    "\n"
   ]
  },
  {
   "cell_type": "code",
   "execution_count": 335,
   "id": "4f8c695c",
   "metadata": {},
   "outputs": [
    {
     "data": {
      "text/plain": [
       "<matplotlib.legend.Legend at 0x7f1824f37f70>"
      ]
     },
     "execution_count": 335,
     "metadata": {},
     "output_type": "execute_result"
    },
    {
     "data": {
      "image/png": "[encoded data removed]",
      "text/plain": [
       "<Figure size 432x288 with 1 Axes>"
      ]
     },
     "metadata": {
      "needs_background": "light"
     },
     "output_type": "display_data"
    }
   ],
   "source": [
    "plt.plot(rf_scores_1, label='rf')\n",
    "plt.plot(rf_scores_2, label='rf_untuned')\n",
    "plt.plot(mrmr_scores_1,label='mmr')\n",
    "plt.plot(xgboost_scores_1,label='xgb')\n",
    "plt.legend()"
   ]
  },
  {
   "cell_type": "code",
   "execution_count": null,
   "id": "c22510b9",
   "metadata": {},
   "outputs": [],
   "source": []
  }
 ],
 "metadata": {
  "kernelspec": {
   "display_name": "Python 3 (ipykernel)",
   "language": "python",
   "name": "python3"
  },
  "language_info": {
   "codemirror_mode": {
    "name": "ipython",
    "version": 3
   },
   "file_extension": ".py",
   "mimetype": "text/x-python",
   "name": "python",
   "nbconvert_exporter": "python",
   "pygments_lexer": "ipython3",
   "version": "3.8.0"
  }
 },
 "nbformat": 4,
 "nbformat_minor": 5
}
